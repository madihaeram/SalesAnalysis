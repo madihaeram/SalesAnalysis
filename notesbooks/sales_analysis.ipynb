# Import necessary libraries
import pandas as pd
import matplotlib.pyplot as plt
import seaborn as sns

# Load sales dataset
sales_data = pd.read_csv('data/sales_data.csv')

# Data exploration
print(sales_data.head())
print(sales_data.info())

# Statistical analysis
sales_stats = sales_data.describe()
print(sales_stats)

# Data visualization
# Sales distribution by product category
sns.barplot(x='Product_Category', y='Sales', data=sales_data)
plt.title('Sales Distribution by Product Category')
plt.xlabel('Product Category')
plt.ylabel('Sales')
plt.show()

# Sales vs. Promotion
sns.boxplot(x='Promotion', y='Sales', data=sales_data)
plt.title('Sales vs. Promotion')
plt.xlabel('Promotion')
plt.ylabel('Sales')
plt.show()

# Correlation heatmap
plt.figure(figsize=(10, 6))
sns.heatmap(sales_data.corr(), annot=True, cmap='coolwarm')
plt.title('Correlation Heatmap')
plt.show()
