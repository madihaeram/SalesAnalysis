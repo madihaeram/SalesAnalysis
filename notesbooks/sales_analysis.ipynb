# Import necessary libraries
import pandas as pd
import matplotlib.pyplot as plt

# Load the data
data_path = '../data/sales_data.csv'
data = pd.read_csv(data_path)

# Display first few rows of the data
print("Data Preview:")
print(data.head())

# Convert Date column to datetime
data['Date'] = pd.to_datetime(data['Date'])

# Group data by Date and sum the Sales
daily_sales = data.groupby('Date').sum().reset_index()

# Plot Sales over Time
plt.figure(figsize=(10, 6))
plt.plot(daily_sales['Date'], daily_sales['Sales'], marker='o')
plt.title('Daily Sales Over Time')
plt.xlabel('Date')
plt.ylabel('Sales')
plt.grid(True)
plt.show()

# Group data by Product and sum the Sales
product_sales = data.groupby('Product').sum().reset_index()

# Plot Sales by Product
plt.figure(figsize=(10, 6))
plt.bar(product_sales['Product'], product_sales['Sales'], color=['blue', 'orange'])
plt.title('Sales by Product')
plt.xlabel('Product')
plt.ylabel('Sales')
plt.show()
